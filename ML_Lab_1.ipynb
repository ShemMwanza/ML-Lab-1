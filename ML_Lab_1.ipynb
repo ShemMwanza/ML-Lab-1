{
  "nbformat": 4,
  "nbformat_minor": 0,
  "metadata": {
    "colab": {
      "name": "ML Lab 1",
      "provenance": [],
      "collapsed_sections": [],
      "authorship_tag": "ABX9TyMEa+VjxJyNveOPeFAEXi5o",
      "include_colab_link": true
    },
    "kernelspec": {
      "name": "python3",
      "display_name": "Python 3"
    },
    "language_info": {
      "name": "python"
    }
  },
  "cells": [
    {
      "cell_type": "markdown",
      "metadata": {
        "id": "view-in-github",
        "colab_type": "text"
      },
      "source": [
        "<a href=\"https://colab.research.google.com/github/ShemMwanza/ML-Lab-1/blob/main/ML_Lab_1.ipynb\" target=\"_parent\"><img src=\"https://colab.research.google.com/assets/colab-badge.svg\" alt=\"Open In Colab\"/></a>"
      ]
    },
    {
      "cell_type": "code",
      "execution_count": 29,
      "metadata": {
        "id": "bzc3-PPuQC1A"
      },
      "outputs": [],
      "source": [
        "import numpy as np\n",
        "from scipy.stats import binom\n",
        "import pandas as pd\n",
        "import matplotlib.pyplot as plt\n",
        "from sklearn import linear_model"
      ]
    },
    {
      "cell_type": "code",
      "source": [
        "size = 100"
      ],
      "metadata": {
        "id": "WN_QqZl6T2PM"
      },
      "execution_count": 30,
      "outputs": []
    },
    {
      "cell_type": "markdown",
      "source": [
        "Generate fake data"
      ],
      "metadata": {
        "id": "fnvu5x34KlxW"
      }
    },
    {
      "cell_type": "code",
      "source": [
        "fake_dataset={'Office Size':np.random.normal(100,0.5,size),'Office Price':np.random.uniform(100,1000,size)}"
      ],
      "metadata": {
        "id": "CcKxj18DT5VG"
      },
      "execution_count": 31,
      "outputs": []
    },
    {
      "cell_type": "code",
      "source": [
        "pd.DataFrame(fake_dataset)"
      ],
      "metadata": {
        "id": "-OR6ydbT6DUG",
        "outputId": "0ea2e8cd-e602-4083-cff6-81f47f7b7b40",
        "colab": {
          "base_uri": "https://localhost:8080/",
          "height": 424
        }
      },
      "execution_count": 32,
      "outputs": [
        {
          "output_type": "execute_result",
          "data": {
            "text/plain": [
              "    Office Size  Office Price\n",
              "0     99.665154    658.209624\n",
              "1     99.912371    346.686864\n",
              "2     99.977894    124.024673\n",
              "3    100.390226    980.550886\n",
              "4    100.619216    696.173339\n",
              "..          ...           ...\n",
              "95   100.088192    219.114284\n",
              "96    99.525658    150.561010\n",
              "97    99.415945    893.902554\n",
              "98   100.424482    760.143090\n",
              "99   100.370948    551.456307\n",
              "\n",
              "[100 rows x 2 columns]"
            ],
            "text/html": [
              "\n",
              "  <div id=\"df-70920b24-5b6a-4cce-b548-a69f6e79e3bd\">\n",
              "    <div class=\"colab-df-container\">\n",
              "      <div>\n",
              "<style scoped>\n",
              "    .dataframe tbody tr th:only-of-type {\n",
              "        vertical-align: middle;\n",
              "    }\n",
              "\n",
              "    .dataframe tbody tr th {\n",
              "        vertical-align: top;\n",
              "    }\n",
              "\n",
              "    .dataframe thead th {\n",
              "        text-align: right;\n",
              "    }\n",
              "</style>\n",
              "<table border=\"1\" class=\"dataframe\">\n",
              "  <thead>\n",
              "    <tr style=\"text-align: right;\">\n",
              "      <th></th>\n",
              "      <th>Office Size</th>\n",
              "      <th>Office Price</th>\n",
              "    </tr>\n",
              "  </thead>\n",
              "  <tbody>\n",
              "    <tr>\n",
              "      <th>0</th>\n",
              "      <td>99.665154</td>\n",
              "      <td>658.209624</td>\n",
              "    </tr>\n",
              "    <tr>\n",
              "      <th>1</th>\n",
              "      <td>99.912371</td>\n",
              "      <td>346.686864</td>\n",
              "    </tr>\n",
              "    <tr>\n",
              "      <th>2</th>\n",
              "      <td>99.977894</td>\n",
              "      <td>124.024673</td>\n",
              "    </tr>\n",
              "    <tr>\n",
              "      <th>3</th>\n",
              "      <td>100.390226</td>\n",
              "      <td>980.550886</td>\n",
              "    </tr>\n",
              "    <tr>\n",
              "      <th>4</th>\n",
              "      <td>100.619216</td>\n",
              "      <td>696.173339</td>\n",
              "    </tr>\n",
              "    <tr>\n",
              "      <th>...</th>\n",
              "      <td>...</td>\n",
              "      <td>...</td>\n",
              "    </tr>\n",
              "    <tr>\n",
              "      <th>95</th>\n",
              "      <td>100.088192</td>\n",
              "      <td>219.114284</td>\n",
              "    </tr>\n",
              "    <tr>\n",
              "      <th>96</th>\n",
              "      <td>99.525658</td>\n",
              "      <td>150.561010</td>\n",
              "    </tr>\n",
              "    <tr>\n",
              "      <th>97</th>\n",
              "      <td>99.415945</td>\n",
              "      <td>893.902554</td>\n",
              "    </tr>\n",
              "    <tr>\n",
              "      <th>98</th>\n",
              "      <td>100.424482</td>\n",
              "      <td>760.143090</td>\n",
              "    </tr>\n",
              "    <tr>\n",
              "      <th>99</th>\n",
              "      <td>100.370948</td>\n",
              "      <td>551.456307</td>\n",
              "    </tr>\n",
              "  </tbody>\n",
              "</table>\n",
              "<p>100 rows × 2 columns</p>\n",
              "</div>\n",
              "      <button class=\"colab-df-convert\" onclick=\"convertToInteractive('df-70920b24-5b6a-4cce-b548-a69f6e79e3bd')\"\n",
              "              title=\"Convert this dataframe to an interactive table.\"\n",
              "              style=\"display:none;\">\n",
              "        \n",
              "  <svg xmlns=\"http://www.w3.org/2000/svg\" height=\"24px\"viewBox=\"0 0 24 24\"\n",
              "       width=\"24px\">\n",
              "    <path d=\"M0 0h24v24H0V0z\" fill=\"none\"/>\n",
              "    <path d=\"M18.56 5.44l.94 2.06.94-2.06 2.06-.94-2.06-.94-.94-2.06-.94 2.06-2.06.94zm-11 1L8.5 8.5l.94-2.06 2.06-.94-2.06-.94L8.5 2.5l-.94 2.06-2.06.94zm10 10l.94 2.06.94-2.06 2.06-.94-2.06-.94-.94-2.06-.94 2.06-2.06.94z\"/><path d=\"M17.41 7.96l-1.37-1.37c-.4-.4-.92-.59-1.43-.59-.52 0-1.04.2-1.43.59L10.3 9.45l-7.72 7.72c-.78.78-.78 2.05 0 2.83L4 21.41c.39.39.9.59 1.41.59.51 0 1.02-.2 1.41-.59l7.78-7.78 2.81-2.81c.8-.78.8-2.07 0-2.86zM5.41 20L4 18.59l7.72-7.72 1.47 1.35L5.41 20z\"/>\n",
              "  </svg>\n",
              "      </button>\n",
              "      \n",
              "  <style>\n",
              "    .colab-df-container {\n",
              "      display:flex;\n",
              "      flex-wrap:wrap;\n",
              "      gap: 12px;\n",
              "    }\n",
              "\n",
              "    .colab-df-convert {\n",
              "      background-color: #E8F0FE;\n",
              "      border: none;\n",
              "      border-radius: 50%;\n",
              "      cursor: pointer;\n",
              "      display: none;\n",
              "      fill: #1967D2;\n",
              "      height: 32px;\n",
              "      padding: 0 0 0 0;\n",
              "      width: 32px;\n",
              "    }\n",
              "\n",
              "    .colab-df-convert:hover {\n",
              "      background-color: #E2EBFA;\n",
              "      box-shadow: 0px 1px 2px rgba(60, 64, 67, 0.3), 0px 1px 3px 1px rgba(60, 64, 67, 0.15);\n",
              "      fill: #174EA6;\n",
              "    }\n",
              "\n",
              "    [theme=dark] .colab-df-convert {\n",
              "      background-color: #3B4455;\n",
              "      fill: #D2E3FC;\n",
              "    }\n",
              "\n",
              "    [theme=dark] .colab-df-convert:hover {\n",
              "      background-color: #434B5C;\n",
              "      box-shadow: 0px 1px 3px 1px rgba(0, 0, 0, 0.15);\n",
              "      filter: drop-shadow(0px 1px 2px rgba(0, 0, 0, 0.3));\n",
              "      fill: #FFFFFF;\n",
              "    }\n",
              "  </style>\n",
              "\n",
              "      <script>\n",
              "        const buttonEl =\n",
              "          document.querySelector('#df-70920b24-5b6a-4cce-b548-a69f6e79e3bd button.colab-df-convert');\n",
              "        buttonEl.style.display =\n",
              "          google.colab.kernel.accessAllowed ? 'block' : 'none';\n",
              "\n",
              "        async function convertToInteractive(key) {\n",
              "          const element = document.querySelector('#df-70920b24-5b6a-4cce-b548-a69f6e79e3bd');\n",
              "          const dataTable =\n",
              "            await google.colab.kernel.invokeFunction('convertToInteractive',\n",
              "                                                     [key], {});\n",
              "          if (!dataTable) return;\n",
              "\n",
              "          const docLinkHtml = 'Like what you see? Visit the ' +\n",
              "            '<a target=\"_blank\" href=https://colab.research.google.com/notebooks/data_table.ipynb>data table notebook</a>'\n",
              "            + ' to learn more about interactive tables.';\n",
              "          element.innerHTML = '';\n",
              "          dataTable['output_type'] = 'display_data';\n",
              "          await google.colab.output.renderOutput(dataTable, element);\n",
              "          const docLink = document.createElement('div');\n",
              "          docLink.innerHTML = docLinkHtml;\n",
              "          element.appendChild(docLink);\n",
              "        }\n",
              "      </script>\n",
              "    </div>\n",
              "  </div>\n",
              "  "
            ]
          },
          "metadata": {},
          "execution_count": 32
        }
      ]
    },
    {
      "cell_type": "code",
      "source": [
        "X = fake_dataset['Office Size']"
      ],
      "metadata": {
        "id": "-o1kxVMRfGMp"
      },
      "execution_count": 33,
      "outputs": []
    },
    {
      "cell_type": "code",
      "source": [
        "Y = fake_dataset['Office Price']"
      ],
      "metadata": {
        "id": "Lyc7P2tYeM0a"
      },
      "execution_count": 34,
      "outputs": []
    },
    {
      "cell_type": "markdown",
      "source": [
        "Learning rate that controls how much the weights are being adjusted. during gradient descent"
      ],
      "metadata": {
        "id": "GMkgohg5fumS"
      }
    },
    {
      "cell_type": "code",
      "source": [
        "learning_rate = 0.000005"
      ],
      "metadata": {
        "id": "8VR98Cn6Pc7K"
      },
      "execution_count": 35,
      "outputs": []
    },
    {
      "cell_type": "markdown",
      "source": [
        "Linear Regression"
      ],
      "metadata": {
        "id": "lS4PkLudPxHW"
      }
    },
    {
      "cell_type": "code",
      "source": [
        "class LinearRegression:\n",
        "  def __init__(self, size, learningRate):\n",
        "    self.n_w = 0\n",
        "    self.n_b = 0\n",
        "    self.data_s = size\n",
        "    self.learning_rate = learning_rate\n",
        "    self.sum_error_squared = 0\n",
        "\n",
        "  def Ypredict(self, w, b, fake_dataset):\n",
        "    y = X * w + b\n",
        "    return y\n",
        "\n",
        "  def MeanSquaredError(self, fake_dataset):\n",
        "    fake_dataset[\"error\"] = Y - fake_dataset[\"y\"]\n",
        "    fake_dataset[\"error_squared\"] = fake_dataset[\"error\"]**2\n",
        "    return sum(fake_dataset['error_squared'])/self.data_s\n",
        "\n",
        "  def gradientDescent_Formula(self, b, w):\n",
        "    self.n_b = b - (self.learning_rate * - 2 * sum (fake_dataset[\"error\"]))\n",
        "    self.n_w = w - (self.learning_rate * ((-2/self.data_s) * sum(X * fake_dataset[\"error\"])))\n",
        "    return self.n_b, self.n_w"
      ],
      "metadata": {
        "id": "zv2teD24Pn9m"
      },
      "execution_count": 36,
      "outputs": []
    },
    {
      "cell_type": "markdown",
      "source": [
        "Weight and Bias\n",
        "For the equation, y = wx + b"
      ],
      "metadata": {
        "id": "wGi8GkSRSLAY"
      }
    },
    {
      "cell_type": "code",
      "source": [
        "w=0.5\n",
        "b=4"
      ],
      "metadata": {
        "id": "PGTyyRr1Rlr_"
      },
      "execution_count": 37,
      "outputs": []
    },
    {
      "cell_type": "code",
      "source": [
        "model = LinearRegression(size,learning_rate)"
      ],
      "metadata": {
        "id": "wEWJMpd6R6Vk"
      },
      "execution_count": 38,
      "outputs": []
    },
    {
      "cell_type": "markdown",
      "source": [
        "Epochs are the number of times the model will run"
      ],
      "metadata": {
        "id": "mkvxSOKUvset"
      }
    },
    {
      "cell_type": "code",
      "source": [
        "epochs = 75"
      ],
      "metadata": {
        "id": "uW7gI6e1TpeR"
      },
      "execution_count": 39,
      "outputs": []
    },
    {
      "cell_type": "code",
      "source": [
        "for i in range(epochs):\n",
        "  fake_dataset[\"y\"] = model.Ypredict(w, b, fake_dataset)\n",
        "\n",
        "  model.MeanSquaredError(fake_dataset)\n",
        "\n",
        "  b, w = model.gradientDescent_Formula(b, w)\n",
        "\n",
        "pd.DataFrame(fake_dataset)"
      ],
      "metadata": {
        "colab": {
          "base_uri": "https://localhost:8080/",
          "height": 424
        },
        "id": "UAY1iegtTr9O",
        "outputId": "1746d979-9640-4097-b192-40df4d0ee32f"
      },
      "execution_count": 40,
      "outputs": [
        {
          "output_type": "execute_result",
          "data": {
            "text/plain": [
              "    Office Size  Office Price           y       error  error_squared\n",
              "0     99.665154    658.209624  598.575085   59.634538    3556.278170\n",
              "1     99.912371    346.686864  600.036452 -253.349588   64186.013677\n",
              "2     99.977894    124.024673  600.423775 -476.399102  226956.104124\n",
              "3    100.390226    980.550886  602.861185  377.689701  142649.510477\n",
              "4    100.619216    696.173339  604.214812   91.958527    8456.370721\n",
              "..          ...           ...         ...         ...            ...\n",
              "95   100.088192    219.114284  601.075779 -381.961495  145894.583517\n",
              "96    99.525658    150.561010  597.750483 -447.189473  199978.424536\n",
              "97    99.415945    893.902554  597.101940  296.800614   88090.604437\n",
              "98   100.424482    760.143090  603.063681  157.079409   24673.940704\n",
              "99   100.370948    551.456307  602.747228  -51.290920    2630.758506\n",
              "\n",
              "[100 rows x 5 columns]"
            ],
            "text/html": [
              "\n",
              "  <div id=\"df-0b70f30d-5327-49bd-9b63-d5af8cb04f19\">\n",
              "    <div class=\"colab-df-container\">\n",
              "      <div>\n",
              "<style scoped>\n",
              "    .dataframe tbody tr th:only-of-type {\n",
              "        vertical-align: middle;\n",
              "    }\n",
              "\n",
              "    .dataframe tbody tr th {\n",
              "        vertical-align: top;\n",
              "    }\n",
              "\n",
              "    .dataframe thead th {\n",
              "        text-align: right;\n",
              "    }\n",
              "</style>\n",
              "<table border=\"1\" class=\"dataframe\">\n",
              "  <thead>\n",
              "    <tr style=\"text-align: right;\">\n",
              "      <th></th>\n",
              "      <th>Office Size</th>\n",
              "      <th>Office Price</th>\n",
              "      <th>y</th>\n",
              "      <th>error</th>\n",
              "      <th>error_squared</th>\n",
              "    </tr>\n",
              "  </thead>\n",
              "  <tbody>\n",
              "    <tr>\n",
              "      <th>0</th>\n",
              "      <td>99.665154</td>\n",
              "      <td>658.209624</td>\n",
              "      <td>598.575085</td>\n",
              "      <td>59.634538</td>\n",
              "      <td>3556.278170</td>\n",
              "    </tr>\n",
              "    <tr>\n",
              "      <th>1</th>\n",
              "      <td>99.912371</td>\n",
              "      <td>346.686864</td>\n",
              "      <td>600.036452</td>\n",
              "      <td>-253.349588</td>\n",
              "      <td>64186.013677</td>\n",
              "    </tr>\n",
              "    <tr>\n",
              "      <th>2</th>\n",
              "      <td>99.977894</td>\n",
              "      <td>124.024673</td>\n",
              "      <td>600.423775</td>\n",
              "      <td>-476.399102</td>\n",
              "      <td>226956.104124</td>\n",
              "    </tr>\n",
              "    <tr>\n",
              "      <th>3</th>\n",
              "      <td>100.390226</td>\n",
              "      <td>980.550886</td>\n",
              "      <td>602.861185</td>\n",
              "      <td>377.689701</td>\n",
              "      <td>142649.510477</td>\n",
              "    </tr>\n",
              "    <tr>\n",
              "      <th>4</th>\n",
              "      <td>100.619216</td>\n",
              "      <td>696.173339</td>\n",
              "      <td>604.214812</td>\n",
              "      <td>91.958527</td>\n",
              "      <td>8456.370721</td>\n",
              "    </tr>\n",
              "    <tr>\n",
              "      <th>...</th>\n",
              "      <td>...</td>\n",
              "      <td>...</td>\n",
              "      <td>...</td>\n",
              "      <td>...</td>\n",
              "      <td>...</td>\n",
              "    </tr>\n",
              "    <tr>\n",
              "      <th>95</th>\n",
              "      <td>100.088192</td>\n",
              "      <td>219.114284</td>\n",
              "      <td>601.075779</td>\n",
              "      <td>-381.961495</td>\n",
              "      <td>145894.583517</td>\n",
              "    </tr>\n",
              "    <tr>\n",
              "      <th>96</th>\n",
              "      <td>99.525658</td>\n",
              "      <td>150.561010</td>\n",
              "      <td>597.750483</td>\n",
              "      <td>-447.189473</td>\n",
              "      <td>199978.424536</td>\n",
              "    </tr>\n",
              "    <tr>\n",
              "      <th>97</th>\n",
              "      <td>99.415945</td>\n",
              "      <td>893.902554</td>\n",
              "      <td>597.101940</td>\n",
              "      <td>296.800614</td>\n",
              "      <td>88090.604437</td>\n",
              "    </tr>\n",
              "    <tr>\n",
              "      <th>98</th>\n",
              "      <td>100.424482</td>\n",
              "      <td>760.143090</td>\n",
              "      <td>603.063681</td>\n",
              "      <td>157.079409</td>\n",
              "      <td>24673.940704</td>\n",
              "    </tr>\n",
              "    <tr>\n",
              "      <th>99</th>\n",
              "      <td>100.370948</td>\n",
              "      <td>551.456307</td>\n",
              "      <td>602.747228</td>\n",
              "      <td>-51.290920</td>\n",
              "      <td>2630.758506</td>\n",
              "    </tr>\n",
              "  </tbody>\n",
              "</table>\n",
              "<p>100 rows × 5 columns</p>\n",
              "</div>\n",
              "      <button class=\"colab-df-convert\" onclick=\"convertToInteractive('df-0b70f30d-5327-49bd-9b63-d5af8cb04f19')\"\n",
              "              title=\"Convert this dataframe to an interactive table.\"\n",
              "              style=\"display:none;\">\n",
              "        \n",
              "  <svg xmlns=\"http://www.w3.org/2000/svg\" height=\"24px\"viewBox=\"0 0 24 24\"\n",
              "       width=\"24px\">\n",
              "    <path d=\"M0 0h24v24H0V0z\" fill=\"none\"/>\n",
              "    <path d=\"M18.56 5.44l.94 2.06.94-2.06 2.06-.94-2.06-.94-.94-2.06-.94 2.06-2.06.94zm-11 1L8.5 8.5l.94-2.06 2.06-.94-2.06-.94L8.5 2.5l-.94 2.06-2.06.94zm10 10l.94 2.06.94-2.06 2.06-.94-2.06-.94-.94-2.06-.94 2.06-2.06.94z\"/><path d=\"M17.41 7.96l-1.37-1.37c-.4-.4-.92-.59-1.43-.59-.52 0-1.04.2-1.43.59L10.3 9.45l-7.72 7.72c-.78.78-.78 2.05 0 2.83L4 21.41c.39.39.9.59 1.41.59.51 0 1.02-.2 1.41-.59l7.78-7.78 2.81-2.81c.8-.78.8-2.07 0-2.86zM5.41 20L4 18.59l7.72-7.72 1.47 1.35L5.41 20z\"/>\n",
              "  </svg>\n",
              "      </button>\n",
              "      \n",
              "  <style>\n",
              "    .colab-df-container {\n",
              "      display:flex;\n",
              "      flex-wrap:wrap;\n",
              "      gap: 12px;\n",
              "    }\n",
              "\n",
              "    .colab-df-convert {\n",
              "      background-color: #E8F0FE;\n",
              "      border: none;\n",
              "      border-radius: 50%;\n",
              "      cursor: pointer;\n",
              "      display: none;\n",
              "      fill: #1967D2;\n",
              "      height: 32px;\n",
              "      padding: 0 0 0 0;\n",
              "      width: 32px;\n",
              "    }\n",
              "\n",
              "    .colab-df-convert:hover {\n",
              "      background-color: #E2EBFA;\n",
              "      box-shadow: 0px 1px 2px rgba(60, 64, 67, 0.3), 0px 1px 3px 1px rgba(60, 64, 67, 0.15);\n",
              "      fill: #174EA6;\n",
              "    }\n",
              "\n",
              "    [theme=dark] .colab-df-convert {\n",
              "      background-color: #3B4455;\n",
              "      fill: #D2E3FC;\n",
              "    }\n",
              "\n",
              "    [theme=dark] .colab-df-convert:hover {\n",
              "      background-color: #434B5C;\n",
              "      box-shadow: 0px 1px 3px 1px rgba(0, 0, 0, 0.15);\n",
              "      filter: drop-shadow(0px 1px 2px rgba(0, 0, 0, 0.3));\n",
              "      fill: #FFFFFF;\n",
              "    }\n",
              "  </style>\n",
              "\n",
              "      <script>\n",
              "        const buttonEl =\n",
              "          document.querySelector('#df-0b70f30d-5327-49bd-9b63-d5af8cb04f19 button.colab-df-convert');\n",
              "        buttonEl.style.display =\n",
              "          google.colab.kernel.accessAllowed ? 'block' : 'none';\n",
              "\n",
              "        async function convertToInteractive(key) {\n",
              "          const element = document.querySelector('#df-0b70f30d-5327-49bd-9b63-d5af8cb04f19');\n",
              "          const dataTable =\n",
              "            await google.colab.kernel.invokeFunction('convertToInteractive',\n",
              "                                                     [key], {});\n",
              "          if (!dataTable) return;\n",
              "\n",
              "          const docLinkHtml = 'Like what you see? Visit the ' +\n",
              "            '<a target=\"_blank\" href=https://colab.research.google.com/notebooks/data_table.ipynb>data table notebook</a>'\n",
              "            + ' to learn more about interactive tables.';\n",
              "          element.innerHTML = '';\n",
              "          dataTable['output_type'] = 'display_data';\n",
              "          await google.colab.output.renderOutput(dataTable, element);\n",
              "          const docLink = document.createElement('div');\n",
              "          docLink.innerHTML = docLinkHtml;\n",
              "          element.appendChild(docLink);\n",
              "        }\n",
              "      </script>\n",
              "    </div>\n",
              "  </div>\n",
              "  "
            ]
          },
          "metadata": {},
          "execution_count": 40
        }
      ]
    },
    {
      "cell_type": "code",
      "source": [
        "w,b"
      ],
      "metadata": {
        "colab": {
          "base_uri": "https://localhost:8080/"
        },
        "id": "2v1Z97aKUz5D",
        "outputId": "c96ecb30-48bc-4699-b201-579365ae96f8"
      },
      "execution_count": 41,
      "outputs": [
        {
          "output_type": "execute_result",
          "data": {
            "text/plain": [
              "(5.911485724317967, 9.426981492308272)"
            ]
          },
          "metadata": {},
          "execution_count": 41
        }
      ]
    },
    {
      "cell_type": "code",
      "source": [
        "plt.scatter(fake_dataset[\"Office Size\"], fake_dataset[\"y\"],label=\"Estimated Price points\", color=\"Orange\")\n",
        "plt.plot(fake_dataset[\"Office Size\"], fake_dataset[\"y\"])\n",
        "plt.ylabel(\"Office Price\")\n",
        "plt.xlabel(\"Office Size\")\n",
        "plt.legend()"
      ],
      "metadata": {
        "colab": {
          "base_uri": "https://localhost:8080/",
          "height": 296
        },
        "id": "p3BGGOs2U43A",
        "outputId": "43ad9566-b645-4791-8c25-9689487084e8"
      },
      "execution_count": 42,
      "outputs": [
        {
          "output_type": "execute_result",
          "data": {
            "text/plain": [
              "<matplotlib.legend.Legend at 0x7f8789e0a710>"
            ]
          },
          "metadata": {},
          "execution_count": 42
        },
        {
          "output_type": "display_data",
          "data": {
            "text/plain": [
              "<Figure size 432x288 with 1 Axes>"
            ],
            "image/png": "[encoded data removed]"
          },
          "metadata": {
            "needs_background": "light"
          }
        }
      ]
    }
  ]
}